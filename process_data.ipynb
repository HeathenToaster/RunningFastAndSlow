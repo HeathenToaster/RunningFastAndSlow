{
 "cells": [
  {
   "cell_type": "markdown",
   "metadata": {},
   "source": [
    "# Process data"
   ]
  },
  {
   "cell_type": "markdown",
   "metadata": {},
   "source": [
    "## Imports and setup"
   ]
  },
  {
   "cell_type": "code",
   "execution_count": 1,
   "metadata": {},
   "outputs": [],
   "source": [
    "import glob\n",
    "from multiprocessing import Process\n",
    "import os\n",
    "\n",
    "from sessionlists import (dist60, dist90, dist120, TM20, TM10, TM2, TMrev2, TMrev10, TMrev20, buggedSessions)\n",
    "from process_functions import *"
   ]
  },
  {
   "cell_type": "code",
   "execution_count": 2,
   "metadata": {},
   "outputs": [
    {
     "name": "stdout",
     "output_type": "stream",
     "text": [
      "Path to data is: /home/thomas/Desktop/_ALLDATA\n",
      "Found 34 rats in the data folder\n"
     ]
    }
   ],
   "source": [
    "# Define folder with data\n",
    "root = \"/home/thomas/Desktop/_ALLDATA\"\n",
    "\n",
    "print(\"Path to data is: %s\"%root)\n",
    "print(f'Found {len(glob.glob(root+\"/*\"))} rats in the data folder')\n",
    "animalList = [os.path.basename(path) for path in sorted(glob.glob(root+\"/Rat*\"))]"
   ]
  },
  {
   "cell_type": "markdown",
   "metadata": {},
   "source": [
    "# Process all sessions"
   ]
  },
  {
   "cell_type": "code",
   "execution_count": 3,
   "metadata": {},
   "outputs": [],
   "source": [
    "# Define the sessions to process. Can also filter by animal, or session name\n",
    "# Maybe better not to process everything at once, so try chuncking\n",
    "\n",
    "# all sessions\n",
    "SESSIONS_TO_PROCESS = dist60 + dist90 + dist120 + TM20 + TM10 + TM2 + TMrev2 + TMrev10 + TMrev20\n",
    "\n",
    "# e.g. only process dist60 sessions\n",
    "# SESSIONS_TO_PROCESS = dist60\n",
    "\n",
    "# e.g. only process RatM00\n",
    "# SESSIONS_TO_PROCESS = matchsession(\"RatM00\", dist60 + dist90 + dist120 + TM20 + TM10 + TM2 + TMrev2 + TMrev10 + TMrev20)\n",
    "\n",
    "# e.g. only process RatM00 in the dist60 condition\n",
    "# SESSIONS_TO_PROCESS = matchsession(\"RatM00\", dist60)\n",
    "\n",
    "# only one session of RatM00\n",
    "animalList = [\"RatM00\"]\n",
    "SESSIONS_TO_PROCESS = [\"RatM00_2021_07_22_16_13_03\"]"
   ]
  },
  {
   "cell_type": "code",
   "execution_count": null,
   "metadata": {},
   "outputs": [],
   "source": [
    "# Multiprocessing to speed up the processing\n",
    "\n",
    "p = {}\n",
    "for index, animal in enumerate(animalList):\n",
    "    p[animal] = Process(target = processData, args=(root,  # path to data\n",
    "                                                    animal,  # animal name\n",
    "                                                    matchsession(animal, SESSIONS_TO_PROCESS),  # list of sessions to process for this animal\n",
    "                                                    index,  # for colors, etc.\n",
    "                                                    buggedSessions,  # list of sessions to skip\n",
    "                                                    True,  # redo the complete processing of the data\n",
    "                                                    True,  # redraw the recap figure (big so takes time)\n",
    "                                                    False,  # show the figures while processing (adds time)\n",
    "                                                    True,  # recompute the run/inter-run mask (takes time)\n",
    "                                                    ))\n",
    "for index, animal in enumerate(animalList):\n",
    "    p[animal].start()\n",
    "for index, animal in enumerate(animalList):\n",
    "    p[animal].join()"
   ]
  },
  {
   "cell_type": "code",
   "execution_count": null,
   "metadata": {},
   "outputs": [],
   "source": [
    "# Could also use this to process only one session, and loop through the animals and sessions\n",
    "animal = \"RatM00\"\n",
    "processData(root, animal, matchsession(animal, SESSIONS_TO_PROCESS), 1,\n",
    "            buggedSessions, True, True, True, True)"
   ]
  },
  {
   "cell_type": "markdown",
   "metadata": {},
   "source": [
    "&nbsp;\n",
    "\n",
    "&nbsp;\n",
    "\n",
    "&nbsp;\n",
    "\n",
    "&nbsp;\n",
    "\n",
    "&nbsp;\n",
    "\n",
    "&nbsp;\n",
    "\n",
    "&nbsp;\n",
    "\n",
    "&nbsp;\n",
    "\n",
    "&nbsp;\n",
    "\n",
    "&nbsp;\n",
    "\n",
    "&nbsp;\n",
    "\n",
    "&nbsp;\n",
    "\n",
    "&nbsp;\n",
    "\n",
    "&nbsp;\n",
    "\n",
    "&nbsp;\n",
    "\n",
    "&nbsp;\n",
    "\n",
    "&nbsp;\n",
    "\n",
    "&nbsp;\n",
    "\n",
    "&nbsp;\n",
    "\n",
    "&nbsp;\n",
    "\n",
    "&nbsp;"
   ]
  },
  {
   "cell_type": "markdown",
   "metadata": {},
   "source": [
    "# Load processed data"
   ]
  },
  {
   "cell_type": "code",
   "execution_count": 6,
   "metadata": {},
   "outputs": [
    {
     "name": "stdout",
     "output_type": "stream",
     "text": [
      "RatF00\n"
     ]
    },
    {
     "ename": "NameError",
     "evalue": "name 'brainstatus_plot' is not defined",
     "output_type": "error",
     "traceback": [
      "\u001b[0;31m---------------------------------------------------------------------------\u001b[0m",
      "\u001b[0;31mNameError\u001b[0m                                 Traceback (most recent call last)",
      "\u001b[0;32m/tmp/ipykernel_10988/4043085194.py\u001b[0m in \u001b[0;36m<module>\u001b[0;34m\u001b[0m\n\u001b[1;32m     31\u001b[0m \u001b[0;32mfor\u001b[0m \u001b[0mindex\u001b[0m\u001b[0;34m,\u001b[0m \u001b[0manimal\u001b[0m \u001b[0;32min\u001b[0m \u001b[0menumerate\u001b[0m\u001b[0;34m(\u001b[0m\u001b[0manimalList\u001b[0m\u001b[0;34m)\u001b[0m\u001b[0;34m:\u001b[0m\u001b[0;34m\u001b[0m\u001b[0;34m\u001b[0m\u001b[0m\n\u001b[1;32m     32\u001b[0m     \u001b[0mprint\u001b[0m\u001b[0;34m(\u001b[0m\u001b[0manimal\u001b[0m\u001b[0;34m)\u001b[0m\u001b[0;34m\u001b[0m\u001b[0;34m\u001b[0m\u001b[0m\n\u001b[0;32m---> 33\u001b[0;31m     \u001b[0;32mif\u001b[0m \u001b[0mfnmatch\u001b[0m\u001b[0;34m.\u001b[0m\u001b[0mfnmatch\u001b[0m\u001b[0;34m(\u001b[0m\u001b[0manimal\u001b[0m\u001b[0;34m,\u001b[0m \u001b[0;34m'RatF*'\u001b[0m\u001b[0;34m)\u001b[0m\u001b[0;34m:\u001b[0m \u001b[0mrat_markers\u001b[0m\u001b[0;34m[\u001b[0m\u001b[0manimal\u001b[0m\u001b[0;34m]\u001b[0m\u001b[0;34m=\u001b[0m\u001b[0;34m[\u001b[0m\u001b[0mpalette\u001b[0m\u001b[0;34m[\u001b[0m\u001b[0manimal\u001b[0m\u001b[0;34m]\u001b[0m\u001b[0;34m,\u001b[0m \u001b[0;34m\"$\\u2640$\"\u001b[0m\u001b[0;34m,\u001b[0m \u001b[0mbrainstatus_plot\u001b[0m\u001b[0;34m(\u001b[0m\u001b[0mbrainstatus\u001b[0m\u001b[0;34m[\u001b[0m\u001b[0manimal\u001b[0m\u001b[0;34m]\u001b[0m\u001b[0;34m)\u001b[0m\u001b[0;34m]\u001b[0m\u001b[0;34m\u001b[0m\u001b[0;34m\u001b[0m\u001b[0m\n\u001b[0m\u001b[1;32m     34\u001b[0m     \u001b[0;32melif\u001b[0m \u001b[0mfnmatch\u001b[0m\u001b[0;34m.\u001b[0m\u001b[0mfnmatch\u001b[0m\u001b[0;34m(\u001b[0m\u001b[0manimal\u001b[0m\u001b[0;34m,\u001b[0m \u001b[0;34m'RatM*'\u001b[0m\u001b[0;34m)\u001b[0m\u001b[0;34m:\u001b[0m \u001b[0mrat_markers\u001b[0m\u001b[0;34m[\u001b[0m\u001b[0manimal\u001b[0m\u001b[0;34m]\u001b[0m\u001b[0;34m=\u001b[0m\u001b[0;34m[\u001b[0m\u001b[0mpalette\u001b[0m\u001b[0;34m[\u001b[0m\u001b[0manimal\u001b[0m\u001b[0;34m]\u001b[0m\u001b[0;34m,\u001b[0m \u001b[0;34m\"$\\u2642$\"\u001b[0m\u001b[0;34m,\u001b[0m \u001b[0mbrainstatus_plot\u001b[0m\u001b[0;34m(\u001b[0m\u001b[0mbrainstatus\u001b[0m\u001b[0;34m[\u001b[0m\u001b[0manimal\u001b[0m\u001b[0;34m]\u001b[0m\u001b[0;34m)\u001b[0m\u001b[0;34m]\u001b[0m\u001b[0;34m\u001b[0m\u001b[0;34m\u001b[0m\u001b[0m\n\u001b[1;32m     35\u001b[0m     \u001b[0;32melif\u001b[0m \u001b[0mfnmatch\u001b[0m\u001b[0;34m.\u001b[0m\u001b[0mfnmatch\u001b[0m\u001b[0;34m(\u001b[0m\u001b[0manimal\u001b[0m\u001b[0;34m,\u001b[0m \u001b[0;34m'Rat00*'\u001b[0m\u001b[0;34m)\u001b[0m\u001b[0;34m:\u001b[0m \u001b[0mrat_markers\u001b[0m\u001b[0;34m[\u001b[0m\u001b[0manimal\u001b[0m\u001b[0;34m]\u001b[0m\u001b[0;34m=\u001b[0m\u001b[0;34m[\u001b[0m\u001b[0;34m(\u001b[0m\u001b[0;36m0.0\u001b[0m\u001b[0;34m,\u001b[0m \u001b[0;36m0.0\u001b[0m\u001b[0;34m,\u001b[0m \u001b[0;36m0.0\u001b[0m\u001b[0;34m)\u001b[0m\u001b[0;34m,\u001b[0m \u001b[0;34m\"$\\u2426$\"\u001b[0m\u001b[0;34m,\u001b[0m \u001b[0mbrainstatus_plot\u001b[0m\u001b[0;34m(\u001b[0m\u001b[0mbrainstatus\u001b[0m\u001b[0;34m[\u001b[0m\u001b[0manimal\u001b[0m\u001b[0;34m]\u001b[0m\u001b[0;34m)\u001b[0m\u001b[0;34m]\u001b[0m\u001b[0;34m\u001b[0m\u001b[0;34m\u001b[0m\u001b[0m\n",
      "\u001b[0;31mNameError\u001b[0m: name 'brainstatus_plot' is not defined"
     ]
    }
   ],
   "source": [
    "params = {}\n",
    "smoothMask = {}\n",
    "nb_runsBin = {}\n",
    "rat_markers = {}\n",
    "speedRunToLeftBin, speedRunToRightBin = {}, {}\n",
    "timeRunToLeftBin, timeRunToRightBin = {}, {}\n",
    "maxSpeedLeftBin, maxSpeedRightBin = {}, {}\n",
    "timeStayInLeftBin, timeStayInRightBin = {}, {}\n",
    "totalDistance, totalWater, total_trials = {}, {}, {}\n",
    "XtrackRunToLeftBin, XtrackRunToRightBin = {}, {}\n",
    "instantSpeedLeftBin, instantSpeedRightBin = {}, {}\n",
    "trackTimeToLeftBin, trackTimeToRightBin = {}, {}\n",
    "sequence = {}\n",
    "\n",
    "### COLORS we use RGB [0-1] not [0-255]. See www.colorhexa.com for conversion \n",
    "# old_old_palette = ['darkred', 'indianred', 'orangered', 'darkgreen', 'forestgreen', 'limegreen']\n",
    "# old_palette = [(0.55, 0.0, 0.0),  (0.8, 0.36, 0.36),   (1.0, 0.27, 0.0), \n",
    "#                 (0.0, 0.39, 0.0),    (0.13, 0.55, 0.13),   (0.2, 0.8, 0.2)]\n",
    "\n",
    "\n",
    "palette = {'RatF00': (0.4, 0.0, 0.0), 'RatF01': (0.55, 0.13, 0.13), 'RatF02': (0.8, 0.2, 0.2), 'RatF03': (1, 0.6, 0.6),\n",
    "            'RatM00': (0.0, 0.4, 0.0), 'RatM01': (0.13, 0.55, 0.13), 'RatM02': (0.2, 0.8, 0.2), 'RatM03': (0.6, 1.0, 0.6)}\n",
    "\n",
    "# needs to be properly implemented, setting is in behav_params for each session.\n",
    "brainstatus = {'RatF00': 'normal', 'RatF01': 'lesion', 'RatF02': 'normal', 'RatF03': 'lesion',\n",
    "               'RatM00': 'normal', 'RatM01': 'normal', 'RatM02': 'normal', 'RatM03': 'normal'}\n",
    "\n",
    "animalList = [os.path.basename(path) for path in sorted(glob.glob(root+\"/Rat*\"))]\n",
    "oldAnimalList = ['RatF00', 'RatF01', 'RatF02', 'RatM00', 'RatM01', 'RatM02']\n",
    "lesionAnimalList = ['RatF01', 'RatF02', 'RatF03', 'RatM03']\n",
    "for index, animal in enumerate(animalList):\n",
    "    print(animal)\n",
    "    if fnmatch.fnmatch(animal, 'RatF*'): rat_markers[animal]=[palette[animal], \"$\\u2640$\", brainstatus_plot(brainstatus[animal])]\n",
    "    elif fnmatch.fnmatch(animal, 'RatM*'): rat_markers[animal]=[palette[animal], \"$\\u2642$\", brainstatus_plot(brainstatus[animal])]\n",
    "    elif fnmatch.fnmatch(animal, 'Rat00*'): rat_markers[animal]=[(0.0, 0.0, 0.0), \"$\\u2426$\", brainstatus_plot(brainstatus[animal])]\n",
    "    else: print(\"error, this is not a rat you got here\")\n",
    "\n",
    "    for session in sorted(matchsession(animal, dist60+dist90+dist120 + TM20+TM10+TM2+TMrev2+TMrev10+TMrev20 +\n",
    "                                                postVacs60+postVacs60BIS+postVacs90_1+postVacs90_2+postVacs120 + halfyear60+halfyear90_1+halfyear120+halfyear90_2 +\n",
    "                                                lesionrev20+lesionrev10+lesionrev2+lesion2+lesion10+lesion20 + lesion60+lesion90+lesion120)):\n",
    "        params[animal, session]     = get_from_pickle(root, animal, session, name=\"params.p\")\n",
    "        smoothMask[animal, session] = get_from_pickle(root, animal, session, name=\"mask.p\")\n",
    "        nb_runsBin[animal, session] = get_from_pickle(root, animal, session, name=\"nbRuns.p\")\n",
    "        speedRunToLeftBin[animal, session],  speedRunToRightBin[animal, session]  = get_from_pickle(root, animal, session, name=\"avgSpeed.p\")\n",
    "        maxSpeedLeftBin[animal, session],    maxSpeedRightBin[animal, session]    = get_from_pickle(root, animal, session, name=\"maxSpeed.p\")\n",
    "        timeStayInLeftBin[animal, session],  timeStayInRightBin[animal, session]  = get_from_pickle(root, animal, session, name=\"timeinZone.p\")\n",
    "        timeRunToLeftBin[animal, session],   timeRunToRightBin[animal, session]   = get_from_pickle(root, animal, session, name=\"timeRun.p\")\n",
    "        XtrackRunToLeftBin[animal, session], XtrackRunToRightBin[animal, session] = get_from_pickle(root, animal, session, name=\"trackPos.p\")\n",
    "        instantSpeedLeftBin[animal, session],instantSpeedRightBin[animal, session]= get_from_pickle(root, animal, session, name=\"trackSpeed.p\")\n",
    "        trackTimeToLeftBin[animal, session], trackTimeToRightBin[animal, session] = get_from_pickle(root, animal, session, name=\"trackTime.p\")\n",
    "        totalDistance[animal, session],      totalWater[animal, session], total_trials[animal, session] = get_from_pickle(root, animal, session, name=\"misc.p\")\n",
    "        sequence[animal, session] = get_from_pickle(root, animal, session, name=\"test.p\")\n",
    "\n",
    "    # for session in sorted(matchsession(animal, trainDist+TMtrain+postVacsTrain)): # halfyeartrain+lesionTrain\n",
    "    #     params[animal, session] = get_from_pickle(root, animal, session, name=\"params.p\")\n",
    "    #     smoothMask[animal, session] = get_from_pickle(root, animal, session, name=\"mask.p\")\n",
    "    #     totalDistance[animal, session], totalWater[animal, session], total_trials[animal, session] = get_from_pickle(root, animal, session, name=\"misc.p\")\n",
    "\n",
    "# sessions pre lesion\n",
    "data60, data90, data120 = separate_data(animalList, dist60+dist90+dist120, XtrackRunToLeftBin, XtrackRunToRightBin, 'Distance', params, 'avgrunspeed', True)\n",
    "datat60, datat90, datat120 = separate_data(animalList, dist60+dist90+dist120, trackTimeToLeftBin, trackTimeToRightBin, 'Distance', params, 'avgrunspeed', True)\n",
    "sdata60, sdata90, sdata120 = separate_data(animalList, dist60+dist90+dist120, instantSpeedLeftBin, instantSpeedRightBin, 'Distance', params, 'avgrunspeed', True)\n",
    "sdatat60, sdatat90, sdatat120 = separate_data(animalList, dist60+dist90+dist120, trackTimeToLeftBin, trackTimeToRightBin, 'Distance', params, 'avgrunspeed', True)\n",
    "datarev20, datarev10, datarev2, data2, data10, data20 = separate_data(animalList, TM20+TM10+TM2+TMrev2+TMrev10+TMrev20, XtrackRunToLeftBin, XtrackRunToRightBin, 'TM_ON', params, 'avgrunspeed', True)\n",
    "datarevt20, datarevt10, datarevt2, datat2, datat10, datat20 = separate_data(animalList, TM20+TM10+TM2+TMrev2+TMrev10+TMrev20, trackTimeToLeftBin, trackTimeToRightBin, 'TM_ON', params, 'avgrunspeed', True)\n",
    "sdatarev20, sdatarev10, sdatarev2, sdata2, sdata10, sdata20 = separate_data(animalList, TM20+TM10+TM2+TMrev2+TMrev10+TMrev20, instantSpeedLeftBin, instantSpeedRightBin, 'TM_ON', params, 'avgrunspeed', True)\n",
    "sdatarevt20, sdatarevt10, sdatarevt2, sdatat2, sdatat10, sdatat20 = separate_data(animalList, TM20+TM10+TM2+TMrev2+TMrev10+TMrev20, trackTimeToLeftBin, trackTimeToRightBin, 'TM_ON', params, 'avgrunspeed', True)\n",
    "\n",
    "# lesion sessions\n",
    "datalesionrev20, datalesionrev10, datalesionrev2, datalesion2, datalesion10, datalesion20 = separate_data(animalList, lesionrev20+lesionrev10+lesionrev2+lesion2+lesion10+lesion20, XtrackRunToLeftBin, XtrackRunToRightBin, 'TM_ON', params, 'avgrunspeed', True)\n",
    "datalesionrevt20, datalesionrevt10, datalesionrevt2, datalesiont2, datalesiont10, datalesiont20 = separate_data(animalList, lesionrev20+lesionrev10+lesionrev2+lesion2+lesion10+lesion20, trackTimeToLeftBin, trackTimeToRightBin, 'TM_ON', params, 'avgrunspeed', True)\n",
    "sdatalesionrev20, sdatalesionrev10, sdatalesionrev2, sdatalesion2, sdatalesion10, sdatalesion20 = separate_data(animalList, lesionrev20+lesionrev10+lesionrev2+lesion2+lesion10+lesion20, instantSpeedLeftBin, instantSpeedRightBin, 'TM_ON', params, 'avgrunspeed', True)\n",
    "sdatalesionrevt20, sdatalesionrevt10, sdatalesionrevt2, sdatalesiont2, sdatalesiont10, sdatalesiont20 = separate_data(animalList, lesionrev20+lesionrev10+lesionrev2+lesion2+lesion10+lesion20, trackTimeToLeftBin, trackTimeToRightBin, 'TM_ON', params, 'avgrunspeed', True)\n",
    "datalesion60, datalesion90, datalesion120 = separate_data(animalList, lesion120+lesion60+lesion90, XtrackRunToLeftBin, XtrackRunToRightBin, 'Distance', params, 'avgrunspeed', True)\n",
    "datalesiont60, datalesiont90, datalesiont120 = separate_data(animalList, lesion120+lesion60+lesion90, trackTimeToLeftBin, trackTimeToRightBin, 'Distance', params, 'avgrunspeed', True)\n",
    "sdatalesion60, sdatalesion90, sdatalesion120 = separate_data(animalList, lesion120+lesion60+lesion90, instantSpeedLeftBin, instantSpeedRightBin, 'Distance', params, 'avgrunspeed', True)\n",
    "sdatalesiont60, sdatalesiont90, sdatalesiont120 = separate_data(animalList, lesion120+lesion60+lesion90, trackTimeToLeftBin, trackTimeToRightBin, 'Distance', params, 'avgrunspeed', True)"
   ]
  }
 ],
 "metadata": {
  "kernelspec": {
   "display_name": ".venv",
   "language": "python",
   "name": "python3"
  },
  "language_info": {
   "codemirror_mode": {
    "name": "ipython",
    "version": 3
   },
   "file_extension": ".py",
   "mimetype": "text/x-python",
   "name": "python",
   "nbconvert_exporter": "python",
   "pygments_lexer": "ipython3",
   "version": "3.7.11"
  }
 },
 "nbformat": 4,
 "nbformat_minor": 2
}
